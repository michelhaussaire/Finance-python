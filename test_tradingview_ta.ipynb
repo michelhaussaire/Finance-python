{
 "cells": [
  {
   "cell_type": "code",
   "execution_count": 1,
   "metadata": {},
   "outputs": [],
   "source": [
    "from tradingview_ta import TA_Handler, Interval"
   ]
  },
  {
   "cell_type": "code",
   "execution_count": 13,
   "metadata": {},
   "outputs": [],
   "source": [
    "output = TA_Handler(symbol='X',\n",
    "                    screener='america',\n",
    "                    exchange='NYSE',\n",
    "                    interval=Interval.INTERVAL_1_MONTH)"
   ]
  },
  {
   "cell_type": "code",
   "execution_count": 14,
   "metadata": {},
   "outputs": [
    {
     "data": {
      "text/plain": [
       "{'Recommend.Other': 0.09090909,\n",
       " 'Recommend.All': 0.41083916,\n",
       " 'Recommend.MA': 0.73076923,\n",
       " 'RSI': 52.12533073,\n",
       " 'RSI[1]': 51.65916805,\n",
       " 'Stoch.K': 45.46359864,\n",
       " 'Stoch.D': 36.86302806,\n",
       " 'Stoch.K[1]': 34.95897869,\n",
       " 'Stoch.D[1]': 36.4876998,\n",
       " 'CCI20': -6.05502023,\n",
       " 'CCI20[1]': -30.4942415,\n",
       " 'ADX': 14.81608265,\n",
       " 'ADX+DI': 22.77905558,\n",
       " 'ADX-DI': 20.74400565,\n",
       " 'ADX+DI[1]': 22.98491637,\n",
       " 'ADX-DI[1]': 21.58415225,\n",
       " 'AO': 0.80382941,\n",
       " 'AO[1]': 2.28299118,\n",
       " 'Mom': 7.35,\n",
       " 'Mom[1]': 2.14,\n",
       " 'MACD.macd': 0.992206,\n",
       " 'MACD.signal': 1.3251924,\n",
       " 'Rec.Stoch.RSI': 0,\n",
       " 'Stoch.RSI.K': 37.32941519,\n",
       " 'Rec.WR': 0,\n",
       " 'W.R': -40.15852048,\n",
       " 'Rec.BBPower': 1,\n",
       " 'BBPower': -0.79062719,\n",
       " 'Rec.UO': 0,\n",
       " 'UO': 53.69795014,\n",
       " 'close': 25.47,\n",
       " 'EMA5': 24.69072166,\n",
       " 'SMA5': 24.076,\n",
       " 'EMA10': 24.70631724,\n",
       " 'SMA10': 25.12,\n",
       " 'EMA20': 24.15229431,\n",
       " 'SMA20': 24.9395,\n",
       " 'EMA30': 23.3697299,\n",
       " 'SMA30': 24.62366667,\n",
       " 'EMA50': 22.57460927,\n",
       " 'SMA50': 19.0852,\n",
       " 'EMA100': 23.58276519,\n",
       " 'SMA100': 21.4397,\n",
       " 'EMA200': 29.78207498,\n",
       " 'SMA200': 36.11820035,\n",
       " 'Rec.Ichimoku': 0,\n",
       " 'Ichimoku.BLine': 27.82995,\n",
       " 'Rec.VWMA': 1,\n",
       " 'VWMA': 25.1858335,\n",
       " 'Rec.HullMA9': 1,\n",
       " 'HullMA9': 22.6427037,\n",
       " 'Pivot.M.Classic.S3': None,\n",
       " 'Pivot.M.Classic.S2': 4.0634,\n",
       " 'Pivot.M.Classic.S1': 14.5567,\n",
       " 'Pivot.M.Classic.Middle': 26.9033,\n",
       " 'Pivot.M.Classic.R1': 37.3966,\n",
       " 'Pivot.M.Classic.R2': 49.7432,\n",
       " 'Pivot.M.Classic.R3': 72.5831,\n",
       " 'Pivot.M.Fibonacci.S3': 4.0634,\n",
       " 'Pivot.M.Fibonacci.S2': 12.7882418,\n",
       " 'Pivot.M.Fibonacci.S1': 18.1784582,\n",
       " 'Pivot.M.Fibonacci.Middle': 26.9033,\n",
       " 'Pivot.M.Fibonacci.R1': 35.6281418,\n",
       " 'Pivot.M.Fibonacci.R2': 41.0183582,\n",
       " 'Pivot.M.Fibonacci.R3': 49.7432,\n",
       " 'Pivot.M.Camarilla.S3': 18.7690275,\n",
       " 'Pivot.M.Camarilla.S2': 20.862685,\n",
       " 'Pivot.M.Camarilla.S1': 22.9563425,\n",
       " 'Pivot.M.Camarilla.Middle': 26.9033,\n",
       " 'Pivot.M.Camarilla.R1': 27.1436575,\n",
       " 'Pivot.M.Camarilla.R2': 29.237315,\n",
       " 'Pivot.M.Camarilla.R3': 31.3309725,\n",
       " 'Pivot.M.Woodie.S3': None,\n",
       " 'Pivot.M.Woodie.S2': 3.725075,\n",
       " 'Pivot.M.Woodie.S1': 13.88005,\n",
       " 'Pivot.M.Woodie.Middle': 26.564975,\n",
       " 'Pivot.M.Woodie.R1': 36.71995,\n",
       " 'Pivot.M.Woodie.R2': 49.404875,\n",
       " 'Pivot.M.Woodie.R3': 59.55985,\n",
       " 'Pivot.M.Demark.S1': 20.73,\n",
       " 'Pivot.M.Demark.Middle': 29.98995,\n",
       " 'Pivot.M.Demark.R1': 43.5699,\n",
       " 'open': 25.17,\n",
       " 'P.SAR': 30.363024,\n",
       " 'BB.lower': 15.87743738,\n",
       " 'BB.upper': 34.00156262,\n",
       " 'AO[2]': 3.55075588,\n",
       " 'volume': 98116838,\n",
       " 'change': 1.83926429,\n",
       " 'low': 22.725,\n",
       " 'high': 25.72}"
      ]
     },
     "execution_count": 14,
     "metadata": {},
     "output_type": "execute_result"
    }
   ],
   "source": [
    "output.get_analysis().indicators"
   ]
  },
  {
   "cell_type": "code",
   "execution_count": 15,
   "metadata": {},
   "outputs": [
    {
     "data": {
      "text/plain": [
       "{'RECOMMENDATION': 'BUY', 'BUY': 14, 'SELL': 3, 'NEUTRAL': 9}"
      ]
     },
     "execution_count": 15,
     "metadata": {},
     "output_type": "execute_result"
    }
   ],
   "source": [
    "output.get_analysis().summary"
   ]
  }
 ],
 "metadata": {
  "kernelspec": {
   "display_name": "Python 3",
   "language": "python",
   "name": "python3"
  },
  "language_info": {
   "codemirror_mode": {
    "name": "ipython",
    "version": 3
   },
   "file_extension": ".py",
   "mimetype": "text/x-python",
   "name": "python",
   "nbconvert_exporter": "python",
   "pygments_lexer": "ipython3",
   "version": "3.9.13"
  },
  "orig_nbformat": 4
 },
 "nbformat": 4,
 "nbformat_minor": 2
}
